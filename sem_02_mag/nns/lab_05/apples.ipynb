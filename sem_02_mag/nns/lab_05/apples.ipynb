{
 "cells": [
  {
   "cell_type": "code",
   "execution_count": 7,
   "id": "3dffe400-d2f0-422f-b75c-feaee4ac6c96",
   "metadata": {},
   "outputs": [],
   "source": [
    "import pandas\n",
    "import numpy\n",
    "import matplotlib.pyplot as plt\n",
    "from sklearn.model_selection import train_test_split, GridSearchCV, cross_val_score\n",
    "from sklearn.preprocessing import LabelEncoder, StandardScaler\n",
    "from sklearn.tree import DecisionTreeClassifier\n",
    "from sklearn.ensemble import GradientBoostingClassifier\n",
    "from sklearn.neural_network import MLPClassifier\n",
    "from sklearn.metrics import accuracy_score, confusion_matrix, f1_score, roc_auc_score\n",
    "from sklearn.pipeline import make_pipeline\n",
    "from sklearn.metrics import classification_report\n",
    "import seaborn\n",
    "from sklearn.linear_model import Perceptron\n",
    "from tensorflow.keras.models import Sequential\n",
    "from tensorflow.keras.layers import Reshape, Conv1D, MaxPooling1D, Flatten, Dense, LSTM"
   ]
  },
  {
   "cell_type": "markdown",
   "id": "24a6e3d0-0595-452a-800c-211370c3e7b8",
   "metadata": {},
   "source": [
    "Данные о качестве (вкусе) яблок. В основном предоставлены Американскими агрокультурными компаниями."
   ]
  },
  {
   "cell_type": "markdown",
   "id": "59d59da6-c5ef-4d99-aa22-cdfad5e7468a",
   "metadata": {},
   "source": [
    "Загрузка данных"
   ]
  },
  {
   "cell_type": "code",
   "execution_count": 8,
   "id": "78938f52-5458-4b8b-b76d-8027fe8f83ec",
   "metadata": {},
   "outputs": [],
   "source": [
    "data = pandas.read_csv('data/apple_quality.csv')\n",
    "data = data.drop(['A_id'], axis=1)\n",
    "data = data.dropna()"
   ]
  },
  {
   "cell_type": "markdown",
   "id": "27d27dc4-ebd7-4af4-b208-595af3893ba9",
   "metadata": {},
   "source": [
    "Преобразование целевой переменной"
   ]
  },
  {
   "cell_type": "code",
   "execution_count": 9,
   "id": "4c77ce05-d8be-46df-9695-b71d0024b178",
   "metadata": {},
   "outputs": [],
   "source": [
    "le = LabelEncoder()\n",
    "data['Quality'] = data['Quality'].apply(lambda x: 1 if x == 'good' else 0)\n",
    "y = le.fit_transform(data['Quality'])\n",
    "x = data.drop(['Quality'], axis=1)"
   ]
  },
  {
   "cell_type": "markdown",
   "id": "61ec7d7d-fe0e-4e9b-929e-ec7d023faa2d",
   "metadata": {},
   "source": [
    "Разделение данных"
   ]
  },
  {
   "cell_type": "code",
   "execution_count": 10,
   "id": "1ecb3c03-2900-4006-92a7-1d417faa79fd",
   "metadata": {},
   "outputs": [],
   "source": [
    "x = StandardScaler().fit_transform(x) \n",
    "x_reshaped = x.reshape(x.shape[0], x.shape[1], 1)  # (samples, features, 1)\n",
    "\n",
    "x_train, x_test, y_train, y_test = train_test_split(\n",
    "    x, y, test_size=0.2, random_state=1, stratify=y) # Выделяет 20% данных в качестве тестовых, 80% в качестве данных для обучения, сохраняет соотношение \"хороших\" и \"плохих\" яблок (за счет stratify=y)"
   ]
  },
  {
   "cell_type": "markdown",
   "id": "051252e9-9d41-42d3-a9cd-8da2ca9aaac5",
   "metadata": {},
   "source": [
    "CNN"
   ]
  },
  {
   "cell_type": "code",
   "execution_count": 11,
   "id": "78b9f58b-2003-44ff-ac4a-42d28aa7d178",
   "metadata": {},
   "outputs": [
    {
     "name": "stderr",
     "output_type": "stream",
     "text": [
      "/Users/karpova.eo/Library/Python/3.9/lib/python/site-packages/keras/src/layers/convolutional/base_conv.py:107: UserWarning: Do not pass an `input_shape`/`input_dim` argument to a layer. When using Sequential models, prefer using an `Input(shape)` object as the first layer in the model instead.\n",
      "  super().__init__(activity_regularizer=activity_regularizer, **kwargs)\n"
     ]
    }
   ],
   "source": [
    "cnn = Sequential([\n",
    "    Conv1D(32, kernel_size=3, activation='relu', input_shape=(x.shape[1], 1)), # Cверточный слой для 1D-данных\n",
    "    MaxPooling1D(2), # Уменьшает размер данных, оставляя только самые важные признаки.\n",
    "    Conv1D(64, kernel_size=2, activation='relu'), # Второй сверточный слой с 64 фильтрами и окном размера 2, учится находить более сложные паттерны.\n",
    "    Flatten(), # Преобразует многомерные данные в одномерный вектор.\n",
    "    Dense(32, activation='relu'), # Полносвязный слой с 32 нейронами. Здесь нейроны анализируют все признаки сразу, чтобы принять решение.\n",
    "    Dense(1, activation='sigmoid') # Выходной слой с 1 нейроном. Сигмоида (sigmoid) преобразует выход в число от 0 до 1\n",
    "])\n",
    "\n",
    "cnn.compile(\n",
    "    optimizer='adam',\n",
    "    loss='binary_crossentropy',\n",
    "    metrics=['accuracy']\n",
    ")"
   ]
  },
  {
   "cell_type": "markdown",
   "id": "94cf9bf4-2042-407c-8308-1da25515e67b",
   "metadata": {},
   "source": [
    "Обучение CNN"
   ]
  },
  {
   "cell_type": "code",
   "execution_count": 12,
   "id": "4350c0c0-d043-4e1a-b03b-b16d819a16bf",
   "metadata": {},
   "outputs": [
    {
     "name": "stdout",
     "output_type": "stream",
     "text": [
      "Epoch 1/30\n",
      "\u001b[1m80/80\u001b[0m \u001b[32m━━━━━━━━━━━━━━━━━━━━\u001b[0m\u001b[37m\u001b[0m \u001b[1m1s\u001b[0m 2ms/step - accuracy: 0.6644 - loss: 0.6489 - val_accuracy: 0.7125 - val_loss: 0.5581\n",
      "Epoch 2/30\n",
      "\u001b[1m80/80\u001b[0m \u001b[32m━━━━━━━━━━━━━━━━━━━━\u001b[0m\u001b[37m\u001b[0m \u001b[1m0s\u001b[0m 806us/step - accuracy: 0.7482 - loss: 0.5352 - val_accuracy: 0.7672 - val_loss: 0.4864\n",
      "Epoch 3/30\n",
      "\u001b[1m80/80\u001b[0m \u001b[32m━━━━━━━━━━━━━━━━━━━━\u001b[0m\u001b[37m\u001b[0m \u001b[1m0s\u001b[0m 820us/step - accuracy: 0.8030 - loss: 0.4346 - val_accuracy: 0.8000 - val_loss: 0.4217\n",
      "Epoch 4/30\n",
      "\u001b[1m80/80\u001b[0m \u001b[32m━━━━━━━━━━━━━━━━━━━━\u001b[0m\u001b[37m\u001b[0m \u001b[1m0s\u001b[0m 775us/step - accuracy: 0.8259 - loss: 0.3881 - val_accuracy: 0.8016 - val_loss: 0.3871\n",
      "Epoch 5/30\n",
      "\u001b[1m80/80\u001b[0m \u001b[32m━━━━━━━━━━━━━━━━━━━━\u001b[0m\u001b[37m\u001b[0m \u001b[1m0s\u001b[0m 767us/step - accuracy: 0.8342 - loss: 0.3690 - val_accuracy: 0.8125 - val_loss: 0.3950\n",
      "Epoch 6/30\n",
      "\u001b[1m80/80\u001b[0m \u001b[32m━━━━━━━━━━━━━━━━━━━━\u001b[0m\u001b[37m\u001b[0m \u001b[1m0s\u001b[0m 871us/step - accuracy: 0.8259 - loss: 0.3653 - val_accuracy: 0.8219 - val_loss: 0.3716\n",
      "Epoch 7/30\n",
      "\u001b[1m80/80\u001b[0m \u001b[32m━━━━━━━━━━━━━━━━━━━━\u001b[0m\u001b[37m\u001b[0m \u001b[1m0s\u001b[0m 800us/step - accuracy: 0.8329 - loss: 0.3412 - val_accuracy: 0.8141 - val_loss: 0.3718\n",
      "Epoch 8/30\n",
      "\u001b[1m80/80\u001b[0m \u001b[32m━━━━━━━━━━━━━━━━━━━━\u001b[0m\u001b[37m\u001b[0m \u001b[1m0s\u001b[0m 889us/step - accuracy: 0.8397 - loss: 0.3353 - val_accuracy: 0.8094 - val_loss: 0.3768\n",
      "Epoch 9/30\n",
      "\u001b[1m80/80\u001b[0m \u001b[32m━━━━━━━━━━━━━━━━━━━━\u001b[0m\u001b[37m\u001b[0m \u001b[1m0s\u001b[0m 923us/step - accuracy: 0.8326 - loss: 0.3484 - val_accuracy: 0.8250 - val_loss: 0.3656\n",
      "Epoch 10/30\n",
      "\u001b[1m80/80\u001b[0m \u001b[32m━━━━━━━━━━━━━━━━━━━━\u001b[0m\u001b[37m\u001b[0m \u001b[1m0s\u001b[0m 763us/step - accuracy: 0.8499 - loss: 0.3180 - val_accuracy: 0.8109 - val_loss: 0.3821\n",
      "Epoch 11/30\n",
      "\u001b[1m80/80\u001b[0m \u001b[32m━━━━━━━━━━━━━━━━━━━━\u001b[0m\u001b[37m\u001b[0m \u001b[1m0s\u001b[0m 755us/step - accuracy: 0.8574 - loss: 0.3129 - val_accuracy: 0.8422 - val_loss: 0.3492\n",
      "Epoch 12/30\n",
      "\u001b[1m80/80\u001b[0m \u001b[32m━━━━━━━━━━━━━━━━━━━━\u001b[0m\u001b[37m\u001b[0m \u001b[1m0s\u001b[0m 754us/step - accuracy: 0.8613 - loss: 0.3030 - val_accuracy: 0.8266 - val_loss: 0.3581\n",
      "Epoch 13/30\n",
      "\u001b[1m80/80\u001b[0m \u001b[32m━━━━━━━━━━━━━━━━━━━━\u001b[0m\u001b[37m\u001b[0m \u001b[1m0s\u001b[0m 735us/step - accuracy: 0.8665 - loss: 0.2789 - val_accuracy: 0.8359 - val_loss: 0.3496\n",
      "Epoch 14/30\n",
      "\u001b[1m80/80\u001b[0m \u001b[32m━━━━━━━━━━━━━━━━━━━━\u001b[0m\u001b[37m\u001b[0m \u001b[1m0s\u001b[0m 729us/step - accuracy: 0.8521 - loss: 0.3143 - val_accuracy: 0.8453 - val_loss: 0.3501\n",
      "Epoch 15/30\n",
      "\u001b[1m80/80\u001b[0m \u001b[32m━━━━━━━━━━━━━━━━━━━━\u001b[0m\u001b[37m\u001b[0m \u001b[1m0s\u001b[0m 758us/step - accuracy: 0.8760 - loss: 0.2782 - val_accuracy: 0.8484 - val_loss: 0.3453\n",
      "Epoch 16/30\n",
      "\u001b[1m80/80\u001b[0m \u001b[32m━━━━━━━━━━━━━━━━━━━━\u001b[0m\u001b[37m\u001b[0m \u001b[1m0s\u001b[0m 818us/step - accuracy: 0.8567 - loss: 0.2929 - val_accuracy: 0.8453 - val_loss: 0.3481\n",
      "Epoch 17/30\n",
      "\u001b[1m80/80\u001b[0m \u001b[32m━━━━━━━━━━━━━━━━━━━━\u001b[0m\u001b[37m\u001b[0m \u001b[1m0s\u001b[0m 772us/step - accuracy: 0.8650 - loss: 0.2786 - val_accuracy: 0.8281 - val_loss: 0.3702\n",
      "Epoch 18/30\n",
      "\u001b[1m80/80\u001b[0m \u001b[32m━━━━━━━━━━━━━━━━━━━━\u001b[0m\u001b[37m\u001b[0m \u001b[1m0s\u001b[0m 782us/step - accuracy: 0.8682 - loss: 0.2781 - val_accuracy: 0.8406 - val_loss: 0.3495\n",
      "Epoch 19/30\n",
      "\u001b[1m80/80\u001b[0m \u001b[32m━━━━━━━━━━━━━━━━━━━━\u001b[0m\u001b[37m\u001b[0m \u001b[1m0s\u001b[0m 789us/step - accuracy: 0.8663 - loss: 0.2746 - val_accuracy: 0.8406 - val_loss: 0.3426\n",
      "Epoch 20/30\n",
      "\u001b[1m80/80\u001b[0m \u001b[32m━━━━━━━━━━━━━━━━━━━━\u001b[0m\u001b[37m\u001b[0m \u001b[1m0s\u001b[0m 805us/step - accuracy: 0.8711 - loss: 0.2727 - val_accuracy: 0.8266 - val_loss: 0.3602\n",
      "Epoch 21/30\n",
      "\u001b[1m80/80\u001b[0m \u001b[32m━━━━━━━━━━━━━━━━━━━━\u001b[0m\u001b[37m\u001b[0m \u001b[1m0s\u001b[0m 784us/step - accuracy: 0.8742 - loss: 0.2646 - val_accuracy: 0.8375 - val_loss: 0.3505\n",
      "Epoch 22/30\n",
      "\u001b[1m80/80\u001b[0m \u001b[32m━━━━━━━━━━━━━━━━━━━━\u001b[0m\u001b[37m\u001b[0m \u001b[1m0s\u001b[0m 807us/step - accuracy: 0.8882 - loss: 0.2525 - val_accuracy: 0.8406 - val_loss: 0.3449\n",
      "Epoch 23/30\n",
      "\u001b[1m80/80\u001b[0m \u001b[32m━━━━━━━━━━━━━━━━━━━━\u001b[0m\u001b[37m\u001b[0m \u001b[1m0s\u001b[0m 800us/step - accuracy: 0.8784 - loss: 0.2627 - val_accuracy: 0.8406 - val_loss: 0.3475\n",
      "Epoch 24/30\n",
      "\u001b[1m80/80\u001b[0m \u001b[32m━━━━━━━━━━━━━━━━━━━━\u001b[0m\u001b[37m\u001b[0m \u001b[1m0s\u001b[0m 801us/step - accuracy: 0.8838 - loss: 0.2461 - val_accuracy: 0.8375 - val_loss: 0.3393\n",
      "Epoch 25/30\n",
      "\u001b[1m80/80\u001b[0m \u001b[32m━━━━━━━━━━━━━━━━━━━━\u001b[0m\u001b[37m\u001b[0m \u001b[1m0s\u001b[0m 782us/step - accuracy: 0.8911 - loss: 0.2493 - val_accuracy: 0.8422 - val_loss: 0.3525\n",
      "Epoch 26/30\n",
      "\u001b[1m80/80\u001b[0m \u001b[32m━━━━━━━━━━━━━━━━━━━━\u001b[0m\u001b[37m\u001b[0m \u001b[1m0s\u001b[0m 874us/step - accuracy: 0.8826 - loss: 0.2623 - val_accuracy: 0.8469 - val_loss: 0.3479\n",
      "Epoch 27/30\n",
      "\u001b[1m80/80\u001b[0m \u001b[32m━━━━━━━━━━━━━━━━━━━━\u001b[0m\u001b[37m\u001b[0m \u001b[1m0s\u001b[0m 773us/step - accuracy: 0.8793 - loss: 0.2588 - val_accuracy: 0.8484 - val_loss: 0.3410\n",
      "Epoch 28/30\n",
      "\u001b[1m80/80\u001b[0m \u001b[32m━━━━━━━━━━━━━━━━━━━━\u001b[0m\u001b[37m\u001b[0m \u001b[1m0s\u001b[0m 834us/step - accuracy: 0.8841 - loss: 0.2519 - val_accuracy: 0.8406 - val_loss: 0.3680\n",
      "Epoch 29/30\n",
      "\u001b[1m80/80\u001b[0m \u001b[32m━━━━━━━━━━━━━━━━━━━━\u001b[0m\u001b[37m\u001b[0m \u001b[1m0s\u001b[0m 814us/step - accuracy: 0.8921 - loss: 0.2339 - val_accuracy: 0.8344 - val_loss: 0.3425\n",
      "Epoch 30/30\n",
      "\u001b[1m80/80\u001b[0m \u001b[32m━━━━━━━━━━━━━━━━━━━━\u001b[0m\u001b[37m\u001b[0m \u001b[1m0s\u001b[0m 802us/step - accuracy: 0.8867 - loss: 0.2390 - val_accuracy: 0.8484 - val_loss: 0.3562\n"
     ]
    }
   ],
   "source": [
    "history_cnn = cnn.fit(\n",
    "    x_train, y_train,\n",
    "    epochs=30,\n",
    "    batch_size=32,\n",
    "    validation_split=0.2,\n",
    "    verbose=1\n",
    ")"
   ]
  },
  {
   "cell_type": "markdown",
   "id": "283fc6ae-a261-44a2-bb91-3cc82248eb59",
   "metadata": {},
   "source": [
    "RNN"
   ]
  },
  {
   "cell_type": "code",
   "execution_count": 27,
   "id": "1aad8be2-48c7-49ac-b30c-b0a378eebb96",
   "metadata": {},
   "outputs": [],
   "source": [
    "rnn = Sequential([\n",
    "    Reshape((x.shape[1], 1)), \n",
    "    LSTM(128, return_sequences=True),\n",
    "    LSTM(32),\n",
    "    Dense(1, activation='sigmoid')\n",
    "])\n",
    "\n",
    "rnn.compile(\n",
    "    optimizer='adam',\n",
    "    loss='binary_crossentropy',\n",
    "    metrics=['accuracy']\n",
    ")"
   ]
  },
  {
   "cell_type": "markdown",
   "id": "28aaf986-db71-4815-b7d0-a0129de94e20",
   "metadata": {},
   "source": [
    "Обучение RNN"
   ]
  },
  {
   "cell_type": "code",
   "execution_count": 28,
   "id": "291a1d94-0e0a-40f4-98ca-5657c1f9a551",
   "metadata": {},
   "outputs": [
    {
     "name": "stdout",
     "output_type": "stream",
     "text": [
      "Epoch 1/30\n",
      "\u001b[1m80/80\u001b[0m \u001b[32m━━━━━━━━━━━━━━━━━━━━\u001b[0m\u001b[37m\u001b[0m \u001b[1m1s\u001b[0m 6ms/step - accuracy: 0.6209 - loss: 0.6516 - val_accuracy: 0.7031 - val_loss: 0.5704\n",
      "Epoch 2/30\n",
      "\u001b[1m80/80\u001b[0m \u001b[32m━━━━━━━━━━━━━━━━━━━━\u001b[0m\u001b[37m\u001b[0m \u001b[1m0s\u001b[0m 4ms/step - accuracy: 0.7064 - loss: 0.5692 - val_accuracy: 0.7109 - val_loss: 0.5516\n",
      "Epoch 3/30\n",
      "\u001b[1m80/80\u001b[0m \u001b[32m━━━━━━━━━━━━━━━━━━━━\u001b[0m\u001b[37m\u001b[0m \u001b[1m0s\u001b[0m 4ms/step - accuracy: 0.7106 - loss: 0.5581 - val_accuracy: 0.7109 - val_loss: 0.5352\n",
      "Epoch 4/30\n",
      "\u001b[1m80/80\u001b[0m \u001b[32m━━━━━━━━━━━━━━━━━━━━\u001b[0m\u001b[37m\u001b[0m \u001b[1m0s\u001b[0m 4ms/step - accuracy: 0.7043 - loss: 0.5483 - val_accuracy: 0.7063 - val_loss: 0.5307\n",
      "Epoch 5/30\n",
      "\u001b[1m80/80\u001b[0m \u001b[32m━━━━━━━━━━━━━━━━━━━━\u001b[0m\u001b[37m\u001b[0m \u001b[1m0s\u001b[0m 4ms/step - accuracy: 0.7225 - loss: 0.5277 - val_accuracy: 0.7281 - val_loss: 0.5088\n",
      "Epoch 6/30\n",
      "\u001b[1m80/80\u001b[0m \u001b[32m━━━━━━━━━━━━━━━━━━━━\u001b[0m\u001b[37m\u001b[0m \u001b[1m0s\u001b[0m 4ms/step - accuracy: 0.7158 - loss: 0.5141 - val_accuracy: 0.7375 - val_loss: 0.4997\n",
      "Epoch 7/30\n",
      "\u001b[1m80/80\u001b[0m \u001b[32m━━━━━━━━━━━━━━━━━━━━\u001b[0m\u001b[37m\u001b[0m \u001b[1m0s\u001b[0m 4ms/step - accuracy: 0.7414 - loss: 0.4848 - val_accuracy: 0.7531 - val_loss: 0.4919\n",
      "Epoch 8/30\n",
      "\u001b[1m80/80\u001b[0m \u001b[32m━━━━━━━━━━━━━━━━━━━━\u001b[0m\u001b[37m\u001b[0m \u001b[1m0s\u001b[0m 4ms/step - accuracy: 0.7538 - loss: 0.4679 - val_accuracy: 0.7688 - val_loss: 0.4748\n",
      "Epoch 9/30\n",
      "\u001b[1m80/80\u001b[0m \u001b[32m━━━━━━━━━━━━━━━━━━━━\u001b[0m\u001b[37m\u001b[0m \u001b[1m0s\u001b[0m 4ms/step - accuracy: 0.7707 - loss: 0.4562 - val_accuracy: 0.7688 - val_loss: 0.4814\n",
      "Epoch 10/30\n",
      "\u001b[1m80/80\u001b[0m \u001b[32m━━━━━━━━━━━━━━━━━━━━\u001b[0m\u001b[37m\u001b[0m \u001b[1m0s\u001b[0m 4ms/step - accuracy: 0.7770 - loss: 0.4279 - val_accuracy: 0.7922 - val_loss: 0.4489\n",
      "Epoch 11/30\n",
      "\u001b[1m80/80\u001b[0m \u001b[32m━━━━━━━━━━━━━━━━━━━━\u001b[0m\u001b[37m\u001b[0m \u001b[1m0s\u001b[0m 4ms/step - accuracy: 0.8069 - loss: 0.4020 - val_accuracy: 0.8031 - val_loss: 0.4286\n",
      "Epoch 12/30\n",
      "\u001b[1m80/80\u001b[0m \u001b[32m━━━━━━━━━━━━━━━━━━━━\u001b[0m\u001b[37m\u001b[0m \u001b[1m0s\u001b[0m 4ms/step - accuracy: 0.8120 - loss: 0.3969 - val_accuracy: 0.8250 - val_loss: 0.4062\n",
      "Epoch 13/30\n",
      "\u001b[1m80/80\u001b[0m \u001b[32m━━━━━━━━━━━━━━━━━━━━\u001b[0m\u001b[37m\u001b[0m \u001b[1m0s\u001b[0m 4ms/step - accuracy: 0.8259 - loss: 0.3779 - val_accuracy: 0.8266 - val_loss: 0.3950\n",
      "Epoch 14/30\n",
      "\u001b[1m80/80\u001b[0m \u001b[32m━━━━━━━━━━━━━━━━━━━━\u001b[0m\u001b[37m\u001b[0m \u001b[1m0s\u001b[0m 4ms/step - accuracy: 0.8396 - loss: 0.3472 - val_accuracy: 0.8391 - val_loss: 0.3806\n",
      "Epoch 15/30\n",
      "\u001b[1m80/80\u001b[0m \u001b[32m━━━━━━━━━━━━━━━━━━━━\u001b[0m\u001b[37m\u001b[0m \u001b[1m0s\u001b[0m 4ms/step - accuracy: 0.8550 - loss: 0.3324 - val_accuracy: 0.8438 - val_loss: 0.3649\n",
      "Epoch 16/30\n",
      "\u001b[1m80/80\u001b[0m \u001b[32m━━━━━━━━━━━━━━━━━━━━\u001b[0m\u001b[37m\u001b[0m \u001b[1m0s\u001b[0m 4ms/step - accuracy: 0.8631 - loss: 0.3064 - val_accuracy: 0.8484 - val_loss: 0.3432\n",
      "Epoch 17/30\n",
      "\u001b[1m80/80\u001b[0m \u001b[32m━━━━━━━━━━━━━━━━━━━━\u001b[0m\u001b[37m\u001b[0m \u001b[1m0s\u001b[0m 4ms/step - accuracy: 0.8709 - loss: 0.2816 - val_accuracy: 0.8438 - val_loss: 0.3551\n",
      "Epoch 18/30\n",
      "\u001b[1m80/80\u001b[0m \u001b[32m━━━━━━━━━━━━━━━━━━━━\u001b[0m\u001b[37m\u001b[0m \u001b[1m0s\u001b[0m 4ms/step - accuracy: 0.8803 - loss: 0.2759 - val_accuracy: 0.8438 - val_loss: 0.3336\n",
      "Epoch 19/30\n",
      "\u001b[1m80/80\u001b[0m \u001b[32m━━━━━━━━━━━━━━━━━━━━\u001b[0m\u001b[37m\u001b[0m \u001b[1m0s\u001b[0m 4ms/step - accuracy: 0.8875 - loss: 0.2775 - val_accuracy: 0.8562 - val_loss: 0.3252\n",
      "Epoch 20/30\n",
      "\u001b[1m80/80\u001b[0m \u001b[32m━━━━━━━━━━━━━━━━━━━━\u001b[0m\u001b[37m\u001b[0m \u001b[1m0s\u001b[0m 4ms/step - accuracy: 0.8804 - loss: 0.2804 - val_accuracy: 0.8641 - val_loss: 0.3073\n",
      "Epoch 21/30\n",
      "\u001b[1m80/80\u001b[0m \u001b[32m━━━━━━━━━━━━━━━━━━━━\u001b[0m\u001b[37m\u001b[0m \u001b[1m0s\u001b[0m 4ms/step - accuracy: 0.8938 - loss: 0.2584 - val_accuracy: 0.8453 - val_loss: 0.3580\n",
      "Epoch 22/30\n",
      "\u001b[1m80/80\u001b[0m \u001b[32m━━━━━━━━━━━━━━━━━━━━\u001b[0m\u001b[37m\u001b[0m \u001b[1m0s\u001b[0m 4ms/step - accuracy: 0.8818 - loss: 0.2708 - val_accuracy: 0.8656 - val_loss: 0.3208\n",
      "Epoch 23/30\n",
      "\u001b[1m80/80\u001b[0m \u001b[32m━━━━━━━━━━━━━━━━━━━━\u001b[0m\u001b[37m\u001b[0m \u001b[1m0s\u001b[0m 4ms/step - accuracy: 0.9039 - loss: 0.2305 - val_accuracy: 0.8594 - val_loss: 0.3092\n",
      "Epoch 24/30\n",
      "\u001b[1m80/80\u001b[0m \u001b[32m━━━━━━━━━━━━━━━━━━━━\u001b[0m\u001b[37m\u001b[0m \u001b[1m0s\u001b[0m 4ms/step - accuracy: 0.8971 - loss: 0.2427 - val_accuracy: 0.8750 - val_loss: 0.2858\n",
      "Epoch 25/30\n",
      "\u001b[1m80/80\u001b[0m \u001b[32m━━━━━━━━━━━━━━━━━━━━\u001b[0m\u001b[37m\u001b[0m \u001b[1m0s\u001b[0m 4ms/step - accuracy: 0.9146 - loss: 0.2239 - val_accuracy: 0.8734 - val_loss: 0.2965\n",
      "Epoch 26/30\n",
      "\u001b[1m80/80\u001b[0m \u001b[32m━━━━━━━━━━━━━━━━━━━━\u001b[0m\u001b[37m\u001b[0m \u001b[1m0s\u001b[0m 4ms/step - accuracy: 0.9185 - loss: 0.2024 - val_accuracy: 0.8719 - val_loss: 0.2909\n",
      "Epoch 27/30\n",
      "\u001b[1m80/80\u001b[0m \u001b[32m━━━━━━━━━━━━━━━━━━━━\u001b[0m\u001b[37m\u001b[0m \u001b[1m0s\u001b[0m 4ms/step - accuracy: 0.9140 - loss: 0.2039 - val_accuracy: 0.8750 - val_loss: 0.2976\n",
      "Epoch 28/30\n",
      "\u001b[1m80/80\u001b[0m \u001b[32m━━━━━━━━━━━━━━━━━━━━\u001b[0m\u001b[37m\u001b[0m \u001b[1m0s\u001b[0m 4ms/step - accuracy: 0.9195 - loss: 0.2053 - val_accuracy: 0.8719 - val_loss: 0.2979\n",
      "Epoch 29/30\n",
      "\u001b[1m80/80\u001b[0m \u001b[32m━━━━━━━━━━━━━━━━━━━━\u001b[0m\u001b[37m\u001b[0m \u001b[1m0s\u001b[0m 4ms/step - accuracy: 0.9136 - loss: 0.2167 - val_accuracy: 0.8703 - val_loss: 0.2935\n",
      "Epoch 30/30\n",
      "\u001b[1m80/80\u001b[0m \u001b[32m━━━━━━━━━━━━━━━━━━━━\u001b[0m\u001b[37m\u001b[0m \u001b[1m0s\u001b[0m 4ms/step - accuracy: 0.9111 - loss: 0.2027 - val_accuracy: 0.8813 - val_loss: 0.2821\n"
     ]
    }
   ],
   "source": [
    "history_rnn = rnn.fit(\n",
    "    x_train, y_train,\n",
    "    epochs=30,\n",
    "    batch_size=32,\n",
    "    validation_split=0.2,\n",
    "    verbose=1\n",
    ")"
   ]
  },
  {
   "cell_type": "markdown",
   "id": "13acd949-534d-4a32-94f2-53b662c7bfb7",
   "metadata": {},
   "source": [
    "Оценка методов"
   ]
  },
  {
   "cell_type": "code",
   "execution_count": 29,
   "id": "f2226e15-dd57-4554-aff1-c56c5839aad1",
   "metadata": {},
   "outputs": [
    {
     "name": "stdout",
     "output_type": "stream",
     "text": [
      "\u001b[1m25/25\u001b[0m \u001b[32m━━━━━━━━━━━━━━━━━━━━\u001b[0m\u001b[37m\u001b[0m \u001b[1m0s\u001b[0m 679us/step\n",
      "CNN:\n",
      "Accuracy: 0.860\n",
      "\n",
      "              precision    recall  f1-score   support\n",
      "\n",
      "         bad       0.85      0.88      0.86       399\n",
      "        good       0.87      0.84      0.86       401\n",
      "\n",
      "    accuracy                           0.86       800\n",
      "   macro avg       0.86      0.86      0.86       800\n",
      "weighted avg       0.86      0.86      0.86       800\n",
      "\n",
      "\n",
      "\u001b[1m25/25\u001b[0m \u001b[32m━━━━━━━━━━━━━━━━━━━━\u001b[0m\u001b[37m\u001b[0m \u001b[1m0s\u001b[0m 2ms/step \n",
      "RNN:\n",
      "Accuracy: 0.894\n",
      "\n",
      "              precision    recall  f1-score   support\n",
      "\n",
      "         bad       0.89      0.90      0.89       399\n",
      "        good       0.90      0.89      0.89       401\n",
      "\n",
      "    accuracy                           0.89       800\n",
      "   macro avg       0.89      0.89      0.89       800\n",
      "weighted avg       0.89      0.89      0.89       800\n",
      "\n",
      "\n"
     ]
    },
    {
     "data": {
      "image/png": "[encoded data removed]",
      "text/plain": [
       "<Figure size 1200x500 with 4 Axes>"
      ]
     },
     "metadata": {},
     "output_type": "display_data"
    }
   ],
   "source": [
    "def evaluate_model(name, model, x_test, plot_config):\n",
    "    plt.subplot(plot_config)\n",
    "    \n",
    "    # Получаем вероятности классов\n",
    "    y_pred_proba = model.predict(x_test)\n",
    "    \n",
    "    # Преобразуем вероятности в бинарные метки (0 или 1)\n",
    "    y_pred = numpy.round(y_pred_proba).astype(int)\n",
    "\n",
    "    print(name + \":\")\n",
    "    print(f\"Accuracy: {accuracy_score(y_test, y_pred):.3f}\\n\")\n",
    "\n",
    "    print(classification_report(y_test, y_pred, target_names=[\"bad\", \"good\"]))\n",
    "\n",
    "    print()\n",
    "\n",
    "    plt.title(name)\n",
    "    \n",
    "    cm = confusion_matrix(y_test, y_pred)\n",
    "    seaborn.heatmap(cm, annot=True, fmt='d', cmap='Blues')\n",
    "    plt.grid()\n",
    "\n",
    "plt.figure(figsize=(12, 5))\n",
    "\n",
    "evaluate_model(\"CNN\", cnn, x_test, 121)\n",
    "evaluate_model(\"RNN\", rnn, x_test, 122)\n",
    "\n",
    "# precision - точность, сколько из определенных \"плохими\" яблок действительно плохие\n",
    "# recall - полнота, сколько модель нашла действительно \"плохих\" яблок\n",
    "# f1-score - общий показатель на основе precision и recall"
   ]
  },
  {
   "cell_type": "code",
   "execution_count": null,
   "id": "117094fa-5080-4883-b57d-8415f0f25e16",
   "metadata": {},
   "outputs": [],
   "source": []
  }
 ],
 "metadata": {
  "kernelspec": {
   "display_name": "Python 3 (ipykernel)",
   "language": "python",
   "name": "python3"
  },
  "language_info": {
   "codemirror_mode": {
    "name": "ipython",
    "version": 3
   },
   "file_extension": ".py",
   "mimetype": "text/x-python",
   "name": "python",
   "nbconvert_exporter": "python",
   "pygments_lexer": "ipython3",
   "version": "3.9.6"
  }
 },
 "nbformat": 4,
 "nbformat_minor": 5
}
